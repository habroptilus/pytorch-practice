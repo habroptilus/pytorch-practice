{
 "cells": [
  {
   "cell_type": "markdown",
   "metadata": {},
   "source": [
    "fairnessを考慮したデータ表現を得るencoderをneural netを使って構築する"
   ]
  },
  {
   "cell_type": "code",
   "execution_count": 1,
   "metadata": {},
   "outputs": [
    {
     "ename": "ModuleNotFoundError",
     "evalue": "No module named 'torch'",
     "output_type": "error",
     "traceback": [
      "\u001b[0;31m---------------------------------------------------------------------------\u001b[0m",
      "\u001b[0;31mModuleNotFoundError\u001b[0m                       Traceback (most recent call last)",
      "\u001b[0;32m<ipython-input-1-6f2c6f3e98c1>\u001b[0m in \u001b[0;36m<module>\u001b[0;34m()\u001b[0m\n\u001b[1;32m      1\u001b[0m \u001b[0;32mimport\u001b[0m \u001b[0mos\u001b[0m\u001b[0;34m\u001b[0m\u001b[0m\n\u001b[1;32m      2\u001b[0m \u001b[0;32mimport\u001b[0m \u001b[0mnumpy\u001b[0m \u001b[0;32mas\u001b[0m \u001b[0mnp\u001b[0m\u001b[0;34m\u001b[0m\u001b[0m\n\u001b[0;32m----> 3\u001b[0;31m \u001b[0;32mimport\u001b[0m \u001b[0mtorch\u001b[0m\u001b[0;34m\u001b[0m\u001b[0m\n\u001b[0m\u001b[1;32m      4\u001b[0m \u001b[0;32mimport\u001b[0m \u001b[0mtorchvision\u001b[0m\u001b[0;34m\u001b[0m\u001b[0m\n\u001b[1;32m      5\u001b[0m \u001b[0;32mfrom\u001b[0m \u001b[0mtorch\u001b[0m \u001b[0;32mimport\u001b[0m \u001b[0mnn\u001b[0m\u001b[0;34m\u001b[0m\u001b[0m\n",
      "\u001b[0;31mModuleNotFoundError\u001b[0m: No module named 'torch'"
     ]
    }
   ],
   "source": [
    "import os\n",
    "import numpy as np\n",
    "import torch\n",
    "import torchvision\n",
    "from torch import nn\n",
    "from torch.autograd import Variable\n",
    "from torch.utils.data import DataLoader\n",
    "from torchvision import transforms\n",
    "from torchvision.datasets import MNIST\n",
    "from torchvision.utils import save_image\n",
    "from matplotlib import pyplot as plt\n",
    "%matplotlib inline\n",
    "\n",
    "cuda = torch.cuda.is_available()\n",
    "if cuda:\n",
    "    print('cuda is available!')\n",
    "    \n",
    "num_epochs = 20\n",
    "batch_size = 128\n",
    "learning_rate = 0.001\n",
    "FEATURES_NUM=81\n",
    "A_x=1\n",
    "A_y=1\n",
    "A_z=1\n",
    "out_dir = './result/fair_autoencoder'"
   ]
  },
  {
   "cell_type": "code",
   "execution_count": null,
   "metadata": {},
   "outputs": [],
   "source": [
    "# load data"
   ]
  },
  {
   "cell_type": "code",
   "execution_count": null,
   "metadata": {},
   "outputs": [],
   "source": [
    "# create dataloader"
   ]
  },
  {
   "cell_type": "code",
   "execution_count": null,
   "metadata": {},
   "outputs": [],
   "source": [
    "class fair_autoencoder(nn.Module):\n",
    "    \n",
    "    def __init__(self):\n",
    "        super(Autoencoder, self).__init__()\n",
    "        self.encoder = nn.Sequential(\n",
    "            nn.Linear(FEATURES_NUM, 40),\n",
    "            nn.ReLU(True),\n",
    "            nn.Linear(40, 20),\n",
    "            nn.ReLU(True),\n",
    "            nn.Linear(20, 10),\n",
    "            nn.ReLU(True),\n",
    "            nn.Linear(10, 5),\n",
    "            nn.Softmax())\n",
    "        \n",
    "        self.decoder = nn.Sequential(\n",
    "            nn.Linear(5, 10),\n",
    "            nn.ReLU(True),\n",
    "            nn.Linear(10, 20),\n",
    "            nn.ReLU(True),\n",
    "            nn.Linear(20, 40),\n",
    "            nn.ReLU(True),\n",
    "            nn.Linear(40, FEATURES_NUM),\n",
    "            nn.Tanh()\n",
    "        )\n",
    "        self.l1 = nn.Linear(5, 2) \n",
    "\n",
    "    def forward(self, x):\n",
    "        z = self.encoder(x)\n",
    "        xhat = self.decoder(z)\n",
    "        y=self.l1(z)\n",
    "        return y,xhat,z\n",
    "\n",
    "model = fair_autoencoder()\n",
    "if cuda:\n",
    "    model.cuda()"
   ]
  },
  {
   "cell_type": "code",
   "execution_count": null,
   "metadata": {},
   "outputs": [],
   "source": [
    "optimizer = torch.optim.Adam(model.parameters(),\n",
    "                             lr=learning_rate,\n",
    "                             weight_decay=1e-5)"
   ]
  },
  {
   "cell_type": "code",
   "execution_count": null,
   "metadata": {},
   "outputs": [],
   "source": [
    "def my_loss_func(y,labels,x,xhat,z):\n",
    "    L_x=nn.MSELoss(x,xhat,size_average=False)# 再構成誤差\n",
    "    L_y=nn.CrossEntropyLoss(y,labels,size_average=False) # 負の対数尤度\n",
    "    L_z=compute_Lz(z,x) # 公平性制約\n",
    "    return A_x*L_x+A_y*L_y+A_z*L_z\n",
    "\n",
    "def compute_Lz(z,x):\n",
    "    Z_0=[]\n",
    "    Z_1=[]\n",
    "    for i in range(x):\n",
    "        if x[i][FEATURES_NUM-1]==0:\n",
    "            Z_0.append(z[i])\n",
    "        else:\n",
    "            Z_1.append(z[i])\n",
    "    M_0=torch.mean(Z_0)\n",
    "    M_1=torch.mean(Z_1)\n",
    "    Lz=nn.L1Loss(M_1,M_0,size_average=False)\n",
    "    return Lz"
   ]
  },
  {
   "cell_type": "code",
   "execution_count": null,
   "metadata": {},
   "outputs": [],
   "source": [
    "def train():\n",
    "    model.train()\n",
    "    train_loss = 0\n",
    "    for batch_idx, (data, label) in enumerate(train_loader):\n",
    "        if cuda:\n",
    "            data = Variable(data.cuda())\n",
    "        else:\n",
    "            data = Variable(data)\n",
    "        optimizer.zero_grad()\n",
    "        y,xhat,z= model(data)\n",
    "        loss =my_loss_func(y,label, data, xhat, z)\n",
    "        loss.backward()\n",
    "        train_loss += loss.item()\n",
    "        optimizer.step()\n",
    "    \n",
    "    # loss_function() は平均ではなく全サンプルの合計lossを返すのでサンプル数で割る\n",
    "    train_loss /= len(train_loader.dataset)\n",
    "\n",
    "    return train_loss    \n",
    "    \n",
    "\n",
    "def test():\n",
    "    model.eval()\n",
    "    test_loss = 0\n",
    "    for batch_idx, (data, label) in enumerate(test_loader):\n",
    "        if cuda:\n",
    "            data = Variable(data.cuda())\n",
    "        else:\n",
    "            data = Variable(data)\n",
    "        y,xhat,z= model(data)\n",
    "        loss =my_loss_func(y,label, data, xhat, z)\n",
    "        test_loss += loss.item()\n",
    "        \n",
    "    test_loss /= len(test_loader.dataset)\n",
    "\n",
    "    return test_loss\n",
    "\n"
   ]
  },
  {
   "cell_type": "code",
   "execution_count": null,
   "metadata": {},
   "outputs": [],
   "source": [
    "loss_list = []\n",
    "test_loss_list = []\n",
    "for epoch in range(num_epochs):\n",
    "    loss = train()\n",
    "    test_loss = test()\n",
    "\n",
    "    print('epoch [{}/{}], loss: {:.4f} test_loss: {:.4f}'.format(\n",
    "        epoch + 1,\n",
    "        num_epochs,\n",
    "        loss,\n",
    "        test_loss))\n",
    "\n",
    "    # logging\n",
    "    loss_list.append(loss)\n",
    "    test_loss_list.append(test_loss)\n",
    "\n",
    "# save the training model\n",
    "np.save('{}/loss_list.npy'.format(out_dir), np.array(loss_list))\n",
    "np.save('{}/test_loss_list.npy'.format(out_dir), np.array(test_loss_list))\n",
    "torch.save(model.state_dict(), '{}/vae.pth'.format(out_dir))"
   ]
  },
  {
   "cell_type": "code",
   "execution_count": null,
   "metadata": {},
   "outputs": [],
   "source": [
    "import matplotlib.pyplot as plt\n",
    "%matplotlib inline\n",
    "loss_list = np.load('{}/loss_list.npy'.format(out_dir))\n",
    "plt.plot(loss_list)\n",
    "plt.xlabel('epoch')\n",
    "plt.ylabel('loss')\n",
    "plt.grid()"
   ]
  },
  {
   "cell_type": "code",
   "execution_count": null,
   "metadata": {},
   "outputs": [],
   "source": [
    "test_loss_list = np.load('{}/test_loss_list.npy'.format(out_dir))\n",
    "plt.plot(test_loss_list)\n",
    "plt.xlabel('epoch')\n",
    "plt.ylabel('test loss')\n",
    "plt.grid()"
   ]
  },
  {
   "cell_type": "code",
   "execution_count": null,
   "metadata": {},
   "outputs": [],
   "source": [
    "# 中間表現の可視化　2次元の時のみ動作する"
   ]
  },
  {
   "cell_type": "code",
   "execution_count": null,
   "metadata": {},
   "outputs": [],
   "source": [
    "model.load_state_dict(torch.load('{}/vae.pth'.format(out_dir),\n",
    "                                 map_location=lambda storage,\n",
    "                                 loc: storage))\n",
    "data, labels = iter(test_loader).next()\n",
    "data = data.view(test_batch, -1)\n",
    "\n",
    "# 入力データを中間表現にencode\n",
    "z = model.encode(Variable(images))\n",
    "z.numpy()\n",
    "print(z.shape)"
   ]
  },
  {
   "cell_type": "code",
   "execution_count": null,
   "metadata": {},
   "outputs": [],
   "source": [
    "import pylab\n",
    "import matplotlib.pyplot as plt\n",
    "plt.figure(figsize=(10, 10))\n",
    "plt.scatter(z[:, 0], z[:, 1], marker='.', c=labels.numpy(), cmap=pylab.cm.jet)\n",
    "plt.colorbar()\n",
    "plt.grid()"
   ]
  }
 ],
 "metadata": {
  "kernelspec": {
   "display_name": "Python 3",
   "language": "python",
   "name": "python3"
  },
  "language_info": {
   "codemirror_mode": {
    "name": "ipython",
    "version": 3
   },
   "file_extension": ".py",
   "mimetype": "text/x-python",
   "name": "python",
   "nbconvert_exporter": "python",
   "pygments_lexer": "ipython3",
   "version": "3.6.2"
  }
 },
 "nbformat": 4,
 "nbformat_minor": 2
}
