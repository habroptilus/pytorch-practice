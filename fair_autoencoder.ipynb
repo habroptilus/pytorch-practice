{
 "cells": [
  {
   "cell_type": "markdown",
   "metadata": {},
   "source": [
    "fairnessを考慮したデータ表現を得るencoderをneural netを使って構築する"
   ]
  },
  {
   "cell_type": "code",
   "execution_count": null,
   "metadata": {},
   "outputs": [],
   "source": [
    "import os\n",
    "import numpy as np\n",
    "import torch\n",
    "import torchvision\n",
    "from torch import nn\n",
    "from torch.autograd import Variable\n",
    "from torch.utils.data import DataLoader\n",
    "from torchvision import transforms\n",
    "from torchvision.datasets import MNIST\n",
    "from torchvision.utils import save_image\n",
    "from matplotlib import pyplot as plt\n",
    "%matplotlib inline\n",
    "\n",
    "cuda = torch.cuda.is_available()\n",
    "if cuda:\n",
    "    print('cuda is available!')\n",
    "    \n",
    "num_epochs = 20\n",
    "batch_size = 128\n",
    "learning_rate = 0.001\n",
    "A_x=1\n",
    "A_y=1\n",
    "A_z=1\n",
    "out_dir = './result/fair_autoencoder'"
   ]
  },
  {
   "cell_type": "code",
   "execution_count": null,
   "metadata": {},
   "outputs": [],
   "source": [
    "class fair_autoencoder(nn.Module):\n",
    "    \n",
    "    def __init__(self):\n",
    "        super(Autoencoder, self).__init__()\n",
    "        self.encoder = nn.Sequential(\n",
    "            nn.Linear(81, 40),\n",
    "            nn.ReLU(True),\n",
    "            nn.Linear(40, 20),\n",
    "            nn.ReLU(True),\n",
    "            nn.Linear(20, 10),\n",
    "            nn.ReLU(True),\n",
    "            nn.Linear(10, 5))\n",
    "        \n",
    "        self.decoder = nn.Sequential(\n",
    "            nn.Linear(5, 10),\n",
    "            nn.ReLU(True),\n",
    "            nn.Linear(10, 20),\n",
    "            nn.ReLU(True),\n",
    "            nn.Linear(20, 40),\n",
    "            nn.ReLU(True),\n",
    "            nn.Linear(40, 81),\n",
    "            nn.Tanh()\n",
    "        )\n",
    "        self.l1 = nn.Linear(5, 2) \n",
    "\n",
    "    def forward(self, x):\n",
    "        z = self.encoder(x)\n",
    "        xhat = self.decoder(z)\n",
    "        y=self.l1(z)\n",
    "        return y,xhat,z\n",
    "\n",
    "model = fair_autoencoder()\n",
    "if cuda:\n",
    "    model.cuda()"
   ]
  },
  {
   "cell_type": "code",
   "execution_count": null,
   "metadata": {},
   "outputs": [],
   "source": [
    "criterion = my_loss_func\n",
    "optimizer = torch.optim.Adam(model.parameters(),\n",
    "                             lr=learning_rate,\n",
    "                             weight_decay=1e-5)"
   ]
  },
  {
   "cell_type": "code",
   "execution_count": null,
   "metadata": {},
   "outputs": [],
   "source": [
    "def my_loss_func(y,label,x,xhat,z):\n",
    "    L_x=#再構成誤差\n",
    "    L_y=#負の対数尤度\n",
    "    L_z=#公平性制約\n",
    "    return A_x*L_x+A_y*L_y+A_z*L_z"
   ]
  }
 ],
 "metadata": {
  "kernelspec": {
   "display_name": "Python 3",
   "language": "python",
   "name": "python3"
  },
  "language_info": {
   "codemirror_mode": {
    "name": "ipython",
    "version": 3
   },
   "file_extension": ".py",
   "mimetype": "text/x-python",
   "name": "python",
   "nbconvert_exporter": "python",
   "pygments_lexer": "ipython3",
   "version": "3.6.2"
  }
 },
 "nbformat": 4,
 "nbformat_minor": 2
}
